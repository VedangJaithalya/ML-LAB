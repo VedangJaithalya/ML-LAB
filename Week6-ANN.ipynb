{
 "cells": [
  {
   "cell_type": "code",
   "execution_count": 1,
   "id": "49cd6ac7-d21a-4da3-9f03-b4780376d8b7",
   "metadata": {},
   "outputs": [],
   "source": [
    "import numpy as np\n",
    "X=np.array(([2,9],[1,5],[3,6]),dtype=float)\n",
    "y=np.array(([92],[86],[89]),dtype=float)\n",
    "X=X/np.amax(X,axis=0)\n",
    "y=y/100"
   ]
  },
  {
   "cell_type": "code",
   "execution_count": 2,
   "id": "32ec7252-9a9b-4074-b90a-1ffbbccc1475",
   "metadata": {},
   "outputs": [],
   "source": [
    "epoch=5000\n",
    "lr=0.1\n",
    "inputlayer_neurons=2\n",
    "hiddenlayer_neurons=3\n",
    "output_neurons=1"
   ]
  },
  {
   "cell_type": "code",
   "execution_count": 3,
   "id": "412f85fa-83fd-415f-8766-05ef11984e34",
   "metadata": {},
   "outputs": [],
   "source": [
    "wh=np.random.uniform(size=(inputlayer_neurons,hiddenlayer_neurons))\n",
    "bh=np.random.uniform(size=(1,hiddenlayer_neurons))\n",
    "wout=np.random.uniform(size=(hiddenlayer_neurons,output_neurons))\n",
    "bout=np.random.uniform(size=(1,output_neurons))"
   ]
  },
  {
   "cell_type": "code",
   "execution_count": 4,
   "id": "f6e01e82-ca94-4399-b26f-0a72cb452ecd",
   "metadata": {},
   "outputs": [],
   "source": [
    "def sigmoid(x):\n",
    "  return 1/(1+np.exp(-x))\n",
    "\n",
    "def derivatives_sigmoid(x):\n",
    "  return x*(1-x)"
   ]
  },
  {
   "cell_type": "code",
   "execution_count": 5,
   "id": "4b2bf937-85e4-4bc3-962a-3eecd0cba38a",
   "metadata": {},
   "outputs": [
    {
     "name": "stdout",
     "output_type": "stream",
     "text": [
      "Input:\n",
      "[[0.66666667 1.        ]\n",
      " [0.33333333 0.55555556]\n",
      " [1.         0.66666667]]\n",
      "Actual Output:\n",
      "[[0.92]\n",
      " [0.86]\n",
      " [0.89]]\n",
      "Predicted Output:\n",
      " [[0.87872847]\n",
      " [0.86809583]\n",
      " [0.87851258]]\n"
     ]
    }
   ],
   "source": [
    "for i in range(epoch):\n",
    "  hinp1=np.dot(X,wh)\n",
    "  hinp=hinp1+bh\n",
    "  hlayer_act=sigmoid(hinp)\n",
    "  outinp1=np.dot( hlayer_act,wout)\n",
    "  outinp=outinp1+bout\n",
    "  output=sigmoid(outinp)\n",
    "\n",
    "  EO=y-output\n",
    "  outgrad=derivatives_sigmoid(output)\n",
    "  d_output=EO*outgrad\n",
    "  EH=d_output.dot(wout.T)\n",
    "\n",
    "  hiddengrad=derivatives_sigmoid(hlayer_act)\n",
    "  d_hiddenlayer=EH*hiddengrad\n",
    "\n",
    "wout+=hlayer_act.T.dot(d_output)*lr\n",
    "wh+=X.T.dot(d_hiddenlayer)*lr\n",
    "\n",
    "print(\"Input:\\n\"+str(X))\n",
    "print(\"Actual Output:\\n\"+str(y))\n",
    "print(\"Predicted Output:\\n\",output)"
   ]
  }
 ],
 "metadata": {
  "kernelspec": {
   "display_name": "Python 3 (ipykernel)",
   "language": "python",
   "name": "python3"
  },
  "language_info": {
   "codemirror_mode": {
    "name": "ipython",
    "version": 3
   },
   "file_extension": ".py",
   "mimetype": "text/x-python",
   "name": "python",
   "nbconvert_exporter": "python",
   "pygments_lexer": "ipython3",
   "version": "3.11.7"
  }
 },
 "nbformat": 4,
 "nbformat_minor": 5
}
